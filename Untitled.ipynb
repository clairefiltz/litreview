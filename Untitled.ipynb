{
 "cells": [
  {
   "cell_type": "code",
   "execution_count": null,
   "id": "2bfd8aa6",
   "metadata": {},
   "outputs": [],
   "source": [
    "from google.cloud import storage\n",
    "client = storage.Client()\n",
    "#new_bucket = client.create_bucket('new-bucket-id')\n",
    "#new_blob = new_bucket.blob('remote/path/storage.txt')\n",
    "#new_blob.upload_from_filename(filename='/local/path.txt')\n",
    "\n",
    "# Retrieve an existing bucket\n",
    "# https://console.cloud.google.com/storage/browser/[bucket-id]/\n",
    "https://console.cloud.google.com/storage/browser/litreview-bucket\n",
    "bucket = client.get_bucket('litreview-bucket')\n",
    "# Then do other things...\n",
    "blob = bucket.get_blob('remote/path/to/file.txt')\n",
    "print(blob.download_as_bytes())\n",
    "blob.upload_from_string('New contents!')"
   ]
  }
 ],
 "metadata": {
  "kernelspec": {
   "display_name": "Python 3 (ipykernel)",
   "language": "python",
   "name": "python3"
  },
  "language_info": {
   "codemirror_mode": {
    "name": "ipython",
    "version": 3
   },
   "file_extension": ".py",
   "mimetype": "text/x-python",
   "name": "python",
   "nbconvert_exporter": "python",
   "pygments_lexer": "ipython3",
   "version": "3.8.12"
  },
  "toc": {
   "base_numbering": 1,
   "nav_menu": {},
   "number_sections": true,
   "sideBar": true,
   "skip_h1_title": false,
   "title_cell": "Table of Contents",
   "title_sidebar": "Contents",
   "toc_cell": false,
   "toc_position": {},
   "toc_section_display": true,
   "toc_window_display": false
  }
 },
 "nbformat": 4,
 "nbformat_minor": 5
}
